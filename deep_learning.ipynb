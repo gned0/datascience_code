{
  "nbformat": 4,
  "nbformat_minor": 0,
  "metadata": {
    "colab": {
      "name": "deep_learning.ipynb",
      "provenance": [],
      "collapsed_sections": [],
      "toc_visible": true
    },
    "kernelspec": {
      "name": "python3",
      "display_name": "Python 3"
    },
    "language_info": {
      "name": "python"
    }
  },
  "cells": [
    {
      "cell_type": "markdown",
      "metadata": {
        "id": "CJxF3zzngITn"
      },
      "source": [
        "# Deep learning"
      ]
    },
    {
      "cell_type": "markdown",
      "metadata": {
        "id": "ljC2o8Heg0eg"
      },
      "source": [
        "**Tensore**\n",
        "\n",
        "Un tensore è un array n-dimensionale. In Python la sua rappresentazione più semplice è una lista"
      ]
    },
    {
      "cell_type": "code",
      "metadata": {
        "id": "yzZyzevsgGAX"
      },
      "source": [
        "Tensor = list"
      ],
      "execution_count": null,
      "outputs": []
    },
    {
      "cell_type": "markdown",
      "metadata": {
        "id": "VffHxwfVihoS"
      },
      "source": [
        "**Alcune funzioni di utility per lavorare con i tensori definiti come qui sopra:**"
      ]
    },
    {
      "cell_type": "markdown",
      "metadata": {
        "id": "xFiIWCFAhKec"
      },
      "source": [
        "\n",
        "\n",
        "*   Funzione per ottenere la forma (shape) di un tensore\n",
        "\n"
      ]
    },
    {
      "cell_type": "code",
      "metadata": {
        "id": "OtmIsG_phFGb"
      },
      "source": [
        "from typing import List\n",
        "\n",
        "def shape(tensor):\n",
        "    sizes = []\n",
        "    while isinstance(tensor, list):\n",
        "        sizes.append(len(tensor))\n",
        "        tensor = tensor[0]\n",
        "    return sizes"
      ],
      "execution_count": null,
      "outputs": []
    },
    {
      "cell_type": "markdown",
      "metadata": {
        "id": "Y9c_ihL0ioiT"
      },
      "source": [
        "\n",
        "\n",
        "*   Per capire se il tensore è monodimensionale\n",
        "\n"
      ]
    },
    {
      "cell_type": "code",
      "metadata": {
        "id": "UEW68Ryyh5DU"
      },
      "source": [
        "def is_1d(tensor):\n",
        "    \"\"\"\n",
        "    If tensor[0] is a list, it's a higher-order tensor.\n",
        "    Otherwise, tensor is 1-dimensonal (that is, a vector).\n",
        "    \"\"\"\n",
        "    return not isinstance(tensor[0], list)"
      ],
      "execution_count": null,
      "outputs": []
    },
    {
      "cell_type": "markdown",
      "metadata": {
        "id": "phal8LuLjHZy"
      },
      "source": [
        "* Somma di tutti i valori in un tensore"
      ]
    },
    {
      "cell_type": "code",
      "metadata": {
        "id": "labpDtPPh7Ol"
      },
      "source": [
        "def tensor_sum(tensor: Tensor) -> float:\n",
        "    \"\"\"Sums up all the values in the tensor\"\"\"\n",
        "    if is_1d(tensor):\n",
        "        return sum(tensor)  # just a list of floats, use Python sum\n",
        "    else:\n",
        "        return sum(tensor_sum(tensor_i)      # Call tensor_sum on each row\n",
        "                   for tensor_i in tensor)   # and sum up those results."
      ],
      "execution_count": null,
      "outputs": []
    },
    {
      "cell_type": "markdown",
      "metadata": {
        "id": "BR0wTbz8jUht"
      },
      "source": [
        "* Applicazione di una funzione a tutti gli elementi di un tensore"
      ]
    },
    {
      "cell_type": "code",
      "metadata": {
        "id": "07yXiewkjQse"
      },
      "source": [
        "from typing import Callable\n",
        "\n",
        "def tensor_apply(f: Callable[[float], float], tensor):\n",
        "    \"\"\"Applies f elementwise\"\"\"\n",
        "    if is_1d(tensor):\n",
        "        return [f(x) for x in tensor]\n",
        "    else:\n",
        "        return [tensor_apply(f, tensor_i) for tensor_i in tensor]"
      ],
      "execution_count": null,
      "outputs": []
    },
    {
      "cell_type": "markdown",
      "metadata": {
        "id": "MweefOpDjp9t"
      },
      "source": [
        "* Tensore di tutti zeri con la stessa forma di quello passato in input"
      ]
    },
    {
      "cell_type": "code",
      "metadata": {
        "id": "oJKeKLbwjbT8"
      },
      "source": [
        "def zeros_like(tensor):\n",
        "    return tensor_apply(lambda _: 0.0, tensor)"
      ],
      "execution_count": null,
      "outputs": []
    },
    {
      "cell_type": "markdown",
      "metadata": {
        "id": "_59XcIk2kH0P"
      },
      "source": [
        "* Applica la funzione passata in input agli elementi corrispondenti dei 2 tensori. I tensori devono avere la stessa forma."
      ]
    },
    {
      "cell_type": "code",
      "metadata": {
        "id": "HbdleO8qjv-m"
      },
      "source": [
        "def tensor_combine(f: Callable[[float, float], float], t1, t2) -> Tensor:\n",
        "    \"\"\"Applies f to corresponding elements of t1 and t2\"\"\"\n",
        "    if is_1d(t1):\n",
        "        return [f(x, y) for x, y in zip(t1, t2)]\n",
        "    else:\n",
        "        return [tensor_combine(f, t1_i, t2_i)\n",
        "                for t1_i, t2_i in zip(t1, t2)]"
      ],
      "execution_count": null,
      "outputs": []
    },
    {
      "cell_type": "markdown",
      "metadata": {
        "id": "HNkYwT7skceB"
      },
      "source": [
        "**Layer**"
      ]
    },
    {
      "cell_type": "markdown",
      "metadata": {
        "id": "REd-JiTklDb9"
      },
      "source": [
        "* Per costruire reti neurali, occorre definire i layer, ovvero i vari strati che andranno a costruire la rete. Un layer deve poter applicare funzioni agli input e deve poter retropropagare i gradienti (backpropagation)."
      ]
    },
    {
      "cell_type": "code",
      "metadata": {
        "id": "IJzdjerckgNl"
      },
      "source": [
        "from typing import Iterable, Tuple\n",
        "\n",
        "class Layer:\n",
        "    \"\"\"\n",
        "    Our neural networks will be composed of Layers, each of which\n",
        "    knows how to do some computation on its inputs in the \"forward\"\n",
        "    direction and propagate gradients in the \"backward\" direction.\n",
        "    \"\"\"\n",
        "    def forward(self, input):\n",
        "        \"\"\"\n",
        "        Note the lack of types. We're not going to be prescriptive\n",
        "        about what kinds of inputs layers can take and what kinds\n",
        "        of outputs they can return.\n",
        "        \"\"\"\n",
        "        raise NotImplementedError\n",
        "\n",
        "    def backward(self, gradient):\n",
        "        \"\"\"\n",
        "        Similarly, we're not going to be prescriptive about what the\n",
        "        gradient looks like. It's up to you the user to make sure\n",
        "        that you're doing things sensibly.\n",
        "        \"\"\"\n",
        "        raise NotImplementedError\n",
        "\n",
        "    def params(self) -> Iterable[Tensor]:\n",
        "        \"\"\"\n",
        "        Returns the parameters of this layer. The default implementation\n",
        "        returns nothing, so that if you have a layer with no parameters\n",
        "        you don't have to implement this.\n",
        "        \"\"\"\n",
        "        return ()\n",
        "\n",
        "    def grads(self) -> Iterable[Tensor]:\n",
        "        \"\"\"\n",
        "        Returns the gradients, in the same order as params()\n",
        "        \"\"\"\n",
        "        return ()"
      ],
      "execution_count": null,
      "outputs": []
    },
    {
      "cell_type": "markdown",
      "metadata": {
        "id": "dvSm9TKylenD"
      },
      "source": [
        "* Layer sigmoideo\n",
        "\n",
        "Layer che applica agli input la funzione sigmoidea $f(t)=1/(1+e^-t)$."
      ]
    },
    {
      "cell_type": "code",
      "metadata": {
        "id": "4_PLpCawmLJI"
      },
      "source": [
        "import math\n",
        "\n",
        "def sigmoid(t):\n",
        "  return 1/(1+math.exp(-t))\n",
        "\n",
        "class Sigmoid(Layer):\n",
        "    def forward(self, input: Tensor):\n",
        "        \"\"\"\n",
        "        Apply sigmoid to each element of the input tensor,\n",
        "        and save the results to use in backpropagation.\n",
        "        \"\"\"\n",
        "        self.sigmoids = tensor_apply(sigmoid, input)\n",
        "        return self.sigmoids\n",
        "\n",
        "    def backward(self, gradient: Tensor):\n",
        "        return tensor_combine(lambda sig, grad: sig * (1 - sig) * grad,\n",
        "                              self.sigmoids,\n",
        "                              gradient)"
      ],
      "execution_count": null,
      "outputs": []
    },
    {
      "cell_type": "markdown",
      "metadata": {
        "id": "uIeF9E9moTwE"
      },
      "source": [
        "* Layer lineare\n",
        "\n",
        "Questo layer applica la funzione `dot(weights, inputs)` (*w_1 x i_1 + ... + w_n x i_n*). I parametri del layer sono inizializzati casualmente e verranno migliorati con la discesa del gradiente."
      ]
    },
    {
      "cell_type": "markdown",
      "metadata": {
        "id": "vdrq9iCZq5N1"
      },
      "source": [
        "\n",
        "\n",
        "*   Tensori con parametri casuali:\n",
        "\n"
      ]
    },
    {
      "cell_type": "code",
      "metadata": {
        "id": "lfel6j4gmZf5"
      },
      "source": [
        "import random\n",
        "from probability import inverse_normal_cdf\n",
        "\n",
        "def random_uniform(*dims: int) -> Tensor:\n",
        "    if len(dims) == 1:\n",
        "        return [random.random() for _ in range(dims[0])]\n",
        "    else:\n",
        "        return [random_uniform(*dims[1:]) for _ in range(dims[0])]\n",
        "\n",
        "def random_normal(*dims: int,\n",
        "                  mean: float = 0.0,\n",
        "                  variance: float = 1.0) -> Tensor:\n",
        "    if len(dims) == 1:\n",
        "        return [mean + variance * inverse_normal_cdf(random.random())\n",
        "                for _ in range(dims[0])]\n",
        "    else:\n",
        "        return [random_normal(*dims[1:], mean=mean, variance=variance)\n",
        "                for _ in range(dims[0])]\n",
        "                \n",
        "def random_tensor(*dims: int, init: str = 'normal') -> Tensor:\n",
        "    if init == 'normal':\n",
        "        return random_normal(*dims)\n",
        "    elif init == 'uniform':\n",
        "        return random_uniform(*dims)\n",
        "    elif init == 'xavier':\n",
        "        variance = len(dims) / sum(dims)\n",
        "        return random_normal(*dims, variance=variance)\n",
        "    else:\n",
        "        raise ValueError(f\"unknown init: {init}\")"
      ],
      "execution_count": null,
      "outputs": []
    },
    {
      "cell_type": "markdown",
      "metadata": {
        "id": "Xq9cq0UOqZM0"
      },
      "source": [
        "\n",
        "\n",
        "*   Implementazione layer lineare:\n",
        "\n"
      ]
    },
    {
      "cell_type": "code",
      "metadata": {
        "id": "t4yiIEaopjTx"
      },
      "source": [
        "from linear_algebra import dot # w_1 x i_1 + ... + w_n x i_n\n",
        "\n",
        "class Linear(Layer):\n",
        "    def __init__(self, input_dim: int, output_dim: int, init: str = 'xavier') -> None:\n",
        "        \"\"\"\n",
        "        A layer of output_dim neurons, each with input_dim weights\n",
        "        (and a bias).\n",
        "        \"\"\"\n",
        "        self.input_dim = input_dim\n",
        "        self.output_dim = output_dim\n",
        "\n",
        "        # self.w[o] is the weights for the o-th neuron\n",
        "        self.w = random_tensor(output_dim, input_dim, init=init)\n",
        "\n",
        "        # self.b[o] is the bias term for the o-th neuron\n",
        "        self.b = random_tensor(output_dim, init=init)\n",
        "\n",
        "    def forward(self, input: Tensor) -> Tensor:\n",
        "        # Save the input to use in the backward pass.\n",
        "        self.input = input\n",
        "\n",
        "        # Return the vector of neuron outputs.\n",
        "        return [dot(input, self.w[o]) + self.b[o]\n",
        "                for o in range(self.output_dim)]\n",
        "\n",
        "    def backward(self, gradient: Tensor) -> Tensor:\n",
        "        # Each b[o] gets added to output[o], which means\n",
        "        # the gradient of b is the same as the output gradient.\n",
        "        self.b_grad = gradient\n",
        "\n",
        "        # Each w[o][i] multiplies input[i] and gets added to output[o].\n",
        "        # So its gradient is input[i] * gradient[o].\n",
        "        self.w_grad = [[self.input[i] * gradient[o]\n",
        "                        for i in range(self.input_dim)]\n",
        "                       for o in range(self.output_dim)]\n",
        "\n",
        "        # Each input[i] multiplies every w[o][i] and gets added to every\n",
        "        # output[o]. So its gradient is the sum of w[o][i] * gradient[o]\n",
        "        # across all the outputs.\n",
        "        return [sum(self.w[o][i] * gradient[o] for o in range(self.output_dim))\n",
        "                for i in range(self.input_dim)]\n",
        "\n",
        "    def params(self) -> Iterable[Tensor]:\n",
        "        return [self.w, self.b]\n",
        "\n",
        "    def grads(self) -> Iterable[Tensor]:\n",
        "        return [self.w_grad, self.b_grad]"
      ],
      "execution_count": null,
      "outputs": []
    },
    {
      "cell_type": "markdown",
      "metadata": {
        "id": "fG5wyGYIq-xJ"
      },
      "source": [
        "**Sequenza**\n",
        "\n",
        "Definiti i layer, definiamo una struttura che contenga una sequenza di layer, ovvero la rete neurale."
      ]
    },
    {
      "cell_type": "code",
      "metadata": {
        "id": "2YkZU05_rsyr"
      },
      "source": [
        "from typing import List\n",
        "\n",
        "class Sequential(Layer):\n",
        "    \"\"\"\n",
        "    A layer consisting of a sequence of other layers.\n",
        "    It's up to you to make sure that the output of each layer\n",
        "    makes sense as the input to the next layer.\n",
        "    \"\"\"\n",
        "    def __init__(self, layers: List[Layer]) -> None:\n",
        "        self.layers = layers\n",
        "\n",
        "    def forward(self, input):\n",
        "        \"\"\"Just forward the input through the layers in order.\"\"\"\n",
        "        for layer in self.layers:\n",
        "            input = layer.forward(input)\n",
        "        return input\n",
        "\n",
        "    def backward(self, gradient):\n",
        "        \"\"\"Just backpropagate the gradient through the layers in reverse.\"\"\"\n",
        "        for layer in reversed(self.layers):\n",
        "            gradient = layer.backward(gradient)\n",
        "        return gradient\n",
        "\n",
        "    def params(self) -> Iterable[Tensor]:\n",
        "        \"\"\"Just return the params from each layer.\"\"\"\n",
        "        return (param for layer in self.layers for param in layer.params())\n",
        "\n",
        "    def grads(self) -> Iterable[Tensor]:\n",
        "        \"\"\"Just return the grads from each layer.\"\"\"\n",
        "        return (grad for layer in self.layers for grad in layer.grads())"
      ],
      "execution_count": null,
      "outputs": []
    },
    {
      "cell_type": "markdown",
      "metadata": {
        "id": "zhM7gWriVa3A"
      },
      "source": [
        "**Errore e ottimizzazione**\n",
        "\n",
        "Viene ora introdotta una classe generica *Loss* per implementare diverse astrazioni del calcolo dell'errore e del gradiente. La funzione *Loss* sarà quella da minimizzare"
      ]
    },
    {
      "cell_type": "code",
      "metadata": {
        "id": "QbZlIys-WNdd"
      },
      "source": [
        "class Loss:\n",
        "    def loss(self, predicted: Tensor, actual: Tensor) -> float:\n",
        "        \"\"\"How good are our predictions? (Larger numbers are worse.)\"\"\"\n",
        "        raise NotImplementedError\n",
        "\n",
        "    def gradient(self, predicted: Tensor, actual: Tensor) -> Tensor:\n",
        "        \"\"\"How does the loss change as the predictions change?\"\"\"\n",
        "        raise NotImplementedError"
      ],
      "execution_count": null,
      "outputs": []
    },
    {
      "cell_type": "markdown",
      "metadata": {
        "id": "hXrUAFxbWUPo"
      },
      "source": [
        "* Prima implementazione, l'errore è la somma dei quadrati degli errori"
      ]
    },
    {
      "cell_type": "code",
      "metadata": {
        "id": "aF29NW1AWTxA"
      },
      "source": [
        "class SSE(Loss):\n",
        "    \"\"\"Loss function that computes the sum of the squared errors.\"\"\"\n",
        "    def loss(self, predicted, actual):\n",
        "        # Compute the tensor of squared differences\n",
        "        squared_errors = tensor_combine(\n",
        "            lambda predicted, actual: (predicted - actual) ** 2,\n",
        "            predicted,\n",
        "            actual)\n",
        "\n",
        "        # And just add them up\n",
        "        return tensor_sum(squared_errors)\n",
        "\n",
        "    def gradient(self, predicted, actual):\n",
        "        return tensor_combine(\n",
        "            lambda predicted, actual: 2 * (predicted - actual),\n",
        "            predicted,\n",
        "            actual)"
      ],
      "execution_count": null,
      "outputs": []
    },
    {
      "cell_type": "markdown",
      "metadata": {
        "id": "NWtG2c_5WvXx"
      },
      "source": [
        "\n",
        "\n",
        "*   Introduzione di un ulteriore classe astratta: *Optimizer*. Gli optimizer serviranno ad aggiornare i parametri con nuovi valori, come quelli calcolati con la discesa del gradiente\n",
        "\n"
      ]
    },
    {
      "cell_type": "code",
      "metadata": {
        "id": "P3QNJzMYWj2h"
      },
      "source": [
        "class Optimizer:\n",
        "    \"\"\"\n",
        "    An optimizer updates the weights of a layer (in place) using information\n",
        "    known by either the layer or the optimizer (or by both).\n",
        "    \"\"\"\n",
        "    def step(self, layer: Layer) -> None:\n",
        "        raise NotImplementedError"
      ],
      "execution_count": null,
      "outputs": []
    },
    {
      "cell_type": "markdown",
      "metadata": {
        "id": "YOVFhtoRXXA_"
      },
      "source": [
        "\n",
        "\n",
        "*   La discesa del gradiente è il primo *Optimizer* implementato\n"
      ]
    },
    {
      "cell_type": "code",
      "metadata": {
        "id": "NibVd9nyXSmm"
      },
      "source": [
        "class GradientDescent(Optimizer):\n",
        "    def __init__(self, learning_rate: float = 0.1) -> None:\n",
        "        self.lr = learning_rate\n",
        "\n",
        "    def step(self, layer: Layer) -> None:\n",
        "        for param, grad in zip(layer.params(), layer.grads()):\n",
        "            # Update param using a gradient step\n",
        "            param[:] = tensor_combine(\n",
        "                lambda param, grad: param - grad * self.lr,\n",
        "                param,\n",
        "                grad)\n"
      ],
      "execution_count": null,
      "outputs": []
    },
    {
      "cell_type": "markdown",
      "metadata": {
        "id": "Mg5Zh1I2Xn3j"
      },
      "source": [
        "\n",
        "\n",
        "*   *Optimizer Momentum*. A differenza della discesa del gradiente, questo optimizer non usa solo l'ultimo step del gradiente, ma mantiene una media dei gradienti precedenti che viene aggiornata ad ogni iterazione col nuovo step.\n"
      ]
    },
    {
      "cell_type": "code",
      "metadata": {
        "id": "VCiAyidnX56D"
      },
      "source": [
        "class Momentum(Optimizer):\n",
        "    def __init__(self,\n",
        "                 learning_rate: float,\n",
        "                 momentum: float = 0.9) -> None:\n",
        "        self.lr = learning_rate\n",
        "        self.mo = momentum\n",
        "        self.updates: List[Tensor] = []  # running average\n",
        "\n",
        "    def step(self, layer: Layer) -> None:\n",
        "        # If we have no previous updates, start with all zeros.\n",
        "        if not self.updates:\n",
        "            self.updates = [zeros_like(grad) for grad in layer.grads()]\n",
        "\n",
        "        for update, param, grad in zip(self.updates,\n",
        "                                       layer.params(),\n",
        "                                       layer.grads()):\n",
        "            # Apply momentum\n",
        "            update[:] = tensor_combine(\n",
        "                lambda u, g: self.mo * u + (1 - self.mo) * g,\n",
        "                update,\n",
        "                grad)\n",
        "\n",
        "            # Then take a gradient step\n",
        "            param[:] = tensor_combine(\n",
        "                lambda p, u: p - self.lr * u,\n",
        "                param,\n",
        "                update)"
      ],
      "execution_count": null,
      "outputs": []
    },
    {
      "cell_type": "markdown",
      "metadata": {
        "id": "c2-_76LBsUKh"
      },
      "source": [
        "\n",
        "\n",
        "**Test di una rete neurale: XOR gate**\n"
      ]
    },
    {
      "cell_type": "markdown",
      "metadata": {
        "id": "KcWNbaxCsf8Q"
      },
      "source": [
        "* Definiti ora tutti gli elementi che vanno a comporre una rete neurale (neuroni, layer, sequenze, optimizer, funzioni d'errore), è possibile crearne una ed addestrarla per funzionare da porta XOR.\n"
      ]
    },
    {
      "cell_type": "markdown",
      "metadata": {
        "id": "8iSZCZAKtDpp"
      },
      "source": [
        "\n",
        "\n",
        "*   Dati di addestramento (training set). In X le variabili in input, in y gli output corretti:\n",
        "\n"
      ]
    },
    {
      "cell_type": "code",
      "metadata": {
        "id": "WRSBsghpsyWS"
      },
      "source": [
        "xs = [[0., 0], [0., 1], [1., 0], [1., 1]]\n",
        "ys = [[0.], [1.], [1.], [0.]]"
      ],
      "execution_count": null,
      "outputs": []
    },
    {
      "cell_type": "markdown",
      "metadata": {
        "id": "GRlITbsetdMI"
      },
      "source": [
        "* Addestramento rete"
      ]
    },
    {
      "cell_type": "code",
      "metadata": {
        "colab": {
          "base_uri": "https://localhost:8080/"
        },
        "id": "m4wGoTOmtaCd",
        "outputId": "45fa863d-bf53-419e-b5d7-aa282165fb74"
      },
      "source": [
        "random.seed(0)\n",
        "    \n",
        "net = Sequential([\n",
        "      Linear(input_dim=2, output_dim=2),\n",
        "      Sigmoid(),\n",
        "      Linear(input_dim=2, output_dim=1)\n",
        "  ])    \n",
        "    \n",
        "import tqdm\n",
        "    \n",
        "optimizer = GradientDescent(learning_rate=0.1)\n",
        "loss = SSE()\n",
        "    \n",
        "with tqdm.trange(3000) as t:\n",
        "      for epoch in t:\n",
        "           epoch_loss = 0.0\n",
        "    \n",
        "      for x, y in zip(xs, ys):\n",
        "          predicted = net.forward(x)\n",
        "          epoch_loss += loss.loss(predicted, y)\n",
        "          gradient = loss.gradient(predicted, y)\n",
        "          net.backward(gradient) \n",
        "          optimizer.step(net)\n",
        "    \n",
        "t.set_description(f\"xor loss {epoch_loss:.3f}\")"
      ],
      "execution_count": null,
      "outputs": [
        {
          "output_type": "stream",
          "text": [
            "100%|██████████| 3000/3000 [00:00<00:00, 936089.27it/s]\n"
          ],
          "name": "stderr"
        }
      ]
    },
    {
      "cell_type": "markdown",
      "metadata": {
        "id": "rqpEEhOCv1II"
      },
      "source": [
        "**Altre funzioni di attivazione**\n",
        "\n",
        "La sigmoidea non è l'unica funzione di attivazione che si utilizza, e spesso gliene si preferiscono altre in quanto $sigmoid(0) = 1/2$; vale a dire che se la somma degli input di un neurone è 0, la funzione fornisce in output un valore positivo. Una funzione molto utilizzata $tanh$, la tangente iperbolica\n",
        "\n",
        "*   Funzione tangente iperbolica\n",
        "\n",
        "$tanh(x)=sinh(x)/cosh(x)$\n",
        "\n",
        "$d/dx(tanh(x))=1-tanh(x)^2$\n",
        "\n",
        "Ha range -1, 1 e forma sigmoidale, ma per input 0 ha output 0.\n",
        "\n",
        "\n",
        "* Implementazione in python della funzione e implementazione di un layer che la utilizza come attivazione:\n",
        "\n",
        "\n",
        "\n",
        "\n"
      ]
    },
    {
      "cell_type": "code",
      "metadata": {
        "id": "KNJ12biPyahh"
      },
      "source": [
        "import math\n",
        "\n",
        "def tanh(x: float) -> float:\n",
        "    # If x is very large or very small, tanh is (essentially) 1 or -1.\n",
        "    # We check for this because e.g. math.exp(1000) raises an error.\n",
        "    if x < -100:  return -1\n",
        "    elif x > 100: return 1\n",
        "\n",
        "    em2x = math.exp(-2 * x)\n",
        "    return (1 - em2x) / (1 + em2x)\n",
        "\n",
        "class Tanh(Layer):\n",
        "    def forward(self, input: Tensor) -> Tensor:\n",
        "        # Save tanh output to use in backward pass.\n",
        "        self.tanh = tensor_apply(tanh, input)\n",
        "        return self.tanh\n",
        "\n",
        "    def backward(self, gradient: Tensor) -> Tensor:\n",
        "        return tensor_combine(\n",
        "            lambda tanh, grad: (1 - tanh ** 2) * grad,\n",
        "            self.tanh,\n",
        "            gradient)"
      ],
      "execution_count": null,
      "outputs": []
    },
    {
      "cell_type": "markdown",
      "metadata": {
        "id": "T_nEaSIfzcCO"
      },
      "source": [
        "\n",
        "\n",
        "*   Rectified Linear Unit (ReLU)\n",
        "\n",
        "$ReLU(x)=x^+=max(0, x)$\n",
        "Un'altra funzione spesso utilizzata è ReLU. L'output è 0 per input negativi e l'identità per input positivi."
      ]
    },
    {
      "cell_type": "code",
      "metadata": {
        "id": "OlsteVop0G9G"
      },
      "source": [
        "class Relu(Layer):\n",
        "    def forward(self, input: Tensor) -> Tensor:\n",
        "        self.input = input\n",
        "        return tensor_apply(lambda x: max(x, 0), input)\n",
        "\n",
        "    def backward(self, gradient: Tensor) -> Tensor:\n",
        "        return tensor_combine(lambda x, grad: grad if x > 0 else 0,\n",
        "                              self.input,\n",
        "                              gradient)"
      ],
      "execution_count": null,
      "outputs": []
    },
    {
      "cell_type": "markdown",
      "metadata": {
        "id": "aRX94Stb0xP6"
      },
      "source": [
        "**Test di rete neurale: FizzBuzz**\n",
        "\n",
        "Il problema da risolvere, chiamato *Fizzbuzz*, è il seguente:\n",
        "\n",
        " *Stampare i numeri da 1 a 100, se il numero è divisibile per 3, stampare \"fizz\" invece del numero. Se il numero è divisibile per 5, stampare \"buzz\" al posto del numero. Se il numero è divisibile per 15, stampare \"fizzbuzz\" al posto del numero.*"
      ]
    },
    {
      "cell_type": "markdown",
      "metadata": {
        "id": "39Bc0QET15aJ"
      },
      "source": [
        "\n",
        "\n",
        "*   Encoding dell'output in un vettore di 4 numeri binari"
      ]
    },
    {
      "cell_type": "code",
      "metadata": {
        "id": "fHh-kP3m15MN"
      },
      "source": [
        "def fizz_buzz_encode(x):\n",
        "    if x % 15 == 0:\n",
        "        return [0, 0, 0, 1]\n",
        "    elif x % 5 == 0:\n",
        "        return [0, 0, 1, 0]\n",
        "    elif x % 3 == 0:\n",
        "        return [0, 1, 0, 0]\n",
        "    else:\n",
        "        return [1, 0, 0, 0]"
      ],
      "execution_count": null,
      "outputs": []
    },
    {
      "cell_type": "markdown",
      "metadata": {
        "id": "9NHA-_Mq2Dh_"
      },
      "source": [
        "* Encoding da decimale a binario"
      ]
    },
    {
      "cell_type": "code",
      "metadata": {
        "id": "n5orlZFy1iIH"
      },
      "source": [
        "def binary_encode(x):\n",
        "    binary: List[float] = []\n",
        "\n",
        "    for i in range(10):\n",
        "        binary.append(x % 2)\n",
        "        x = x // 2\n",
        "\n",
        "    return binary\n"
      ],
      "execution_count": null,
      "outputs": []
    },
    {
      "cell_type": "markdown",
      "metadata": {
        "id": "muiBHDUV2HtT"
      },
      "source": [
        "* Funzione che ritorna l'indice del valore più grande"
      ]
    },
    {
      "cell_type": "code",
      "metadata": {
        "id": "l7zfEqaZ1upO"
      },
      "source": [
        "def argmax(xs: list) -> int:\n",
        "    \"\"\"Returns the index of the largest value\"\"\"\n",
        "    return max(range(len(xs)), key=lambda i: xs[i])"
      ],
      "execution_count": null,
      "outputs": []
    },
    {
      "cell_type": "markdown",
      "metadata": {
        "id": "h7bz3t7m2SYx"
      },
      "source": [
        "* Training set"
      ]
    },
    {
      "cell_type": "code",
      "metadata": {
        "id": "gdq0VlQo2TtX"
      },
      "source": [
        "xs = [binary_encode(n) for n in range(101, 1024)]\n",
        "ys = [fizz_buzz_encode(n) for n in range(101, 1024)]"
      ],
      "execution_count": null,
      "outputs": []
    },
    {
      "cell_type": "markdown",
      "metadata": {
        "id": "pxkZjSjG2YKt"
      },
      "source": [
        "* Creazione rete neurale"
      ]
    },
    {
      "cell_type": "code",
      "metadata": {
        "id": "RQnVbxBm2W8a"
      },
      "source": [
        "random.seed(0)\n",
        "    \n",
        "NUM_HIDDEN = 25\n",
        "\n",
        "net = Sequential([\n",
        "   Linear(input_dim=10, output_dim=NUM_HIDDEN, init='uniform'),\n",
        "   Tanh(),\n",
        "   Linear(input_dim=NUM_HIDDEN, output_dim=4, init='uniform'),\n",
        "   Sigmoid()\n",
        "  ])"
      ],
      "execution_count": null,
      "outputs": []
    },
    {
      "cell_type": "markdown",
      "metadata": {
        "id": "HX_vSGMt2rij"
      },
      "source": [
        "* Funzione per valutare la precisione della rete"
      ]
    },
    {
      "cell_type": "code",
      "metadata": {
        "id": "gKEqameQ2ypW"
      },
      "source": [
        "def fizzbuzz_accuracy(low, hi, net):\n",
        "    num_correct = 0\n",
        "    for n in range(low, hi):\n",
        "        x = binary_encode(n)\n",
        "        predicted = argmax(net.forward(x))\n",
        "        actual = argmax(fizz_buzz_encode(n))\n",
        "        if predicted == actual:\n",
        "              num_correct += 1\n",
        "    \n",
        "    return num_correct / (hi - low)"
      ],
      "execution_count": null,
      "outputs": []
    },
    {
      "cell_type": "markdown",
      "metadata": {
        "id": "p__d0v723Epm"
      },
      "source": [
        "* Training rete neurale"
      ]
    },
    {
      "cell_type": "code",
      "metadata": {
        "colab": {
          "base_uri": "https://localhost:8080/"
        },
        "id": "_88KI1WN3GIB",
        "outputId": "a736bbd8-ae65-4e3c-addf-19805d53e323"
      },
      "source": [
        "optimizer = Momentum(learning_rate=0.1, momentum=0.9)\n",
        "loss = SSE()\n",
        "    \n",
        "with tqdm.trange(1000) as t:\n",
        "    for epoch in t:\n",
        "        epoch_loss = 0.0\n",
        "    \n",
        "        for x, y in zip(xs, ys):\n",
        "            predicted = net.forward(x)\n",
        "            epoch_loss += loss.loss(predicted, y)\n",
        "            gradient = loss.gradient(predicted, y)\n",
        "            net.backward(gradient)\n",
        "    \n",
        "            optimizer.step(net)\n",
        "    \n",
        "        accuracy = fizzbuzz_accuracy(101, 1024, net)\n",
        "        t.set_description(f\"fb loss: {epoch_loss:.2f} acc: {accuracy:.2f}\")\n",
        "    \n",
        "# Now check results on the test set\n",
        "print(\"test results\", fizzbuzz_accuracy(1, 101, net))"
      ],
      "execution_count": null,
      "outputs": [
        {
          "output_type": "stream",
          "text": [
            "fb loss: 64.54 acc: 0.95: 100%|██████████| 1000/1000 [12:12<00:00,  1.37it/s]"
          ],
          "name": "stderr"
        },
        {
          "output_type": "stream",
          "text": [
            "test results 0.9\n"
          ],
          "name": "stdout"
        },
        {
          "output_type": "stream",
          "text": [
            "\n"
          ],
          "name": "stderr"
        }
      ]
    },
    {
      "cell_type": "markdown",
      "metadata": {
        "id": "jv23lpV_3eZG"
      },
      "source": [
        "\n",
        "\n",
        "*   Con mille iterazioni di training, la precisione raggiunta dal modello è del 90%\n",
        "\n"
      ]
    },
    {
      "cell_type": "markdown",
      "metadata": {
        "id": "CPuckdlT3qGd"
      },
      "source": [
        "**Softmax**\n",
        "\n",
        "Al posto del layer sigmoidale finale, si può usare la funziona softmax, che converte il vettore di numeri reali in un vettore di probabilità. Per farlo convertiamo tutti i numeri nel vettore x in positivo usando $e^x$, e poi dividiamo ognuno dei numeri ottenuti per la somma, ottenendo la probabilità di quell'elemento del vettore."
      ]
    },
    {
      "cell_type": "code",
      "metadata": {
        "id": "jwQ3MP9c8FhM"
      },
      "source": [
        "def softmax(tensor: Tensor) -> Tensor:\n",
        "    \"\"\"Softmax along the last dimension\"\"\"\n",
        "    if is_1d(tensor):\n",
        "        # Subtract largest value for numerical stabilitity.\n",
        "        largest = max(tensor)\n",
        "        exps = [math.exp(x - largest) for x in tensor]\n",
        "\n",
        "        sum_of_exps = sum(exps)                 # This is the total \"weight\".\n",
        "        return [exp_i / sum_of_exps             # Probability is the fraction\n",
        "                for exp_i in exps]              # of the total weight.\n",
        "    else:\n",
        "        return [softmax(tensor_i) for tensor_i in tensor]"
      ],
      "execution_count": null,
      "outputs": []
    },
    {
      "cell_type": "markdown",
      "metadata": {
        "id": "11wpBtzt_dKI"
      },
      "source": [
        "\n",
        "**Funzione di errore entropia incrociata**"
      ]
    },
    {
      "cell_type": "code",
      "metadata": {
        "id": "NZ1isvcI8d_j"
      },
      "source": [
        "class SoftmaxCrossEntropy(Loss):\n",
        "    \"\"\"\n",
        "    This is the negative-log-likelihood of the observed values, given the\n",
        "    neural net model. So if we choose weights to minimize it, our model will\n",
        "    be maximizing the likelihood of the observed data.\n",
        "    \"\"\"\n",
        "    def loss(self, predicted: Tensor, actual: Tensor) -> float:\n",
        "        # Apply softmax to get probabilities\n",
        "        probabilities = softmax(predicted)\n",
        "\n",
        "        # This will be log p_i for the actual class i and 0 for the other\n",
        "        # classes. We add a tiny amount to p to avoid taking log(0).\n",
        "        likelihoods = tensor_combine(lambda p, act: math.log(p + 1e-30) * act,\n",
        "                                     probabilities,\n",
        "                                     actual)\n",
        "\n",
        "        # And then we just sum up the negatives.\n",
        "        return -tensor_sum(likelihoods)\n",
        "\n",
        "    def gradient(self, predicted: Tensor, actual: Tensor) -> Tensor:\n",
        "        probabilities = softmax(predicted)\n",
        "\n",
        "        # Isn't this a pleasant equation?\n",
        "        return tensor_combine(lambda p, actual: p - actual,\n",
        "                              probabilities,\n",
        "                              actual)"
      ],
      "execution_count": null,
      "outputs": []
    },
    {
      "cell_type": "code",
      "metadata": {
        "id": "YAK7j4vF8y_c"
      },
      "source": [
        "net = Sequential([\n",
        "        Linear(input_dim=10, output_dim=NUM_HIDDEN, init='uniform'),\n",
        "        Tanh(),\n",
        "        Linear(input_dim=NUM_HIDDEN, output_dim=4, init='uniform')\n",
        "        # No final sigmoid layer now\n",
        "    ])"
      ],
      "execution_count": null,
      "outputs": []
    },
    {
      "cell_type": "code",
      "metadata": {
        "colab": {
          "base_uri": "https://localhost:8080/"
        },
        "id": "cm6uOjE88fGA",
        "outputId": "a055e7fe-f551-40b3-e9a7-4f800ba2b06a"
      },
      "source": [
        "optimizer = Momentum(learning_rate=0.1, momentum=0.9)\n",
        "loss = SoftmaxCrossEntropy()\n",
        "    \n",
        "with tqdm.trange(1000) as t:\n",
        "    for epoch in t:\n",
        "        epoch_loss = 0.0\n",
        "    \n",
        "        for x, y in zip(xs, ys):\n",
        "            predicted = net.forward(x)\n",
        "            epoch_loss += loss.loss(predicted, y)\n",
        "            gradient = loss.gradient(predicted, y)\n",
        "            net.backward(gradient)\n",
        "    \n",
        "            optimizer.step(net)\n",
        "    \n",
        "        accuracy = fizzbuzz_accuracy(101, 1024, net)\n",
        "        t.set_description(f\"fb loss: {epoch_loss:.2f} acc: {accuracy:.2f}\")\n",
        "    \n",
        "# Now check results on the test set\n",
        "print(\"test results\", fizzbuzz_accuracy(1, 101, net))"
      ],
      "execution_count": null,
      "outputs": [
        {
          "output_type": "stream",
          "text": [
            "fb loss: 5.03 acc: 1.00: 100%|██████████| 1000/1000 [12:09<00:00,  1.37it/s]"
          ],
          "name": "stderr"
        },
        {
          "output_type": "stream",
          "text": [
            "test results 0.98\n"
          ],
          "name": "stdout"
        },
        {
          "output_type": "stream",
          "text": [
            "\n"
          ],
          "name": "stderr"
        }
      ]
    },
    {
      "cell_type": "markdown",
      "metadata": {
        "id": "4pH5EVrtBZ3m"
      },
      "source": [
        "\n",
        "\n",
        "*   Precisione del 98%\n",
        "\n"
      ]
    },
    {
      "cell_type": "markdown",
      "metadata": {
        "id": "R3kv8inp87Yd"
      },
      "source": [
        "**Dropout**\n",
        "\n",
        "I modelli di reti neurali tendono all'overfitting. Per mitigare questo problema si utilizza un metodo chiamato *dropout*. Durante il training, alcuni neuroni scelti casualmente vengono spenti per fare in modo che la rete nel suo complesso non dipenda in maniera eccessiva dai singoli neuroni.\n",
        "\n",
        "Per la fase valutazione si vogliono invece usare tutti i neuroni, quindi il layer di dropout dovrà sapere in quale fase ci si trova.\n",
        "\n",
        "Inoltre, visto che il layer di dropout fornisce in output solo una parte del suo input (a causa dei neuroni spenti), in fase di valutazione ridurre nella stessa proporzione gli output."
      ]
    },
    {
      "cell_type": "code",
      "metadata": {
        "id": "pc2_M0H687Gv"
      },
      "source": [
        "class Dropout(Layer):\n",
        "    def __init__(self, p: float) -> None:\n",
        "        self.p = p\n",
        "        self.train = True\n",
        "\n",
        "    def forward(self, input: Tensor) -> Tensor:\n",
        "        if self.train:\n",
        "            # Create a mask of 0s and 1s shaped like the input\n",
        "            # using the specified probability.\n",
        "            self.mask = tensor_apply(\n",
        "                lambda _: 0 if random.random() < self.p else 1,\n",
        "                input)\n",
        "            # Multiply by the mask to dropout inputs.\n",
        "            return tensor_combine(operator.mul, input, self.mask)\n",
        "        else:\n",
        "            # During evaluation just scale down the outputs uniformly.\n",
        "            return tensor_apply(lambda x: x * (1 - self.p), input)\n",
        "\n",
        "    def backward(self, gradient: Tensor) -> Tensor:\n",
        "        if self.train:\n",
        "            # Only propagate the gradients where mask == 1\n",
        "            return tensor_combine(operator.mul, gradient, self.mask)\n",
        "        else:\n",
        "            raise RuntimeError(\"don't call backward when not in train mode\")"
      ],
      "execution_count": null,
      "outputs": []
    },
    {
      "cell_type": "markdown",
      "metadata": {
        "id": "ojlPvKabsO87"
      },
      "source": [
        "# Caso studio: MNIST\n"
      ]
    },
    {
      "cell_type": "code",
      "metadata": {
        "colab": {
          "base_uri": "https://localhost:8080/"
        },
        "id": "7sOI2rmOsUJu",
        "outputId": "c3d790ea-4ca0-4bc4-a178-e62b56eedbb4"
      },
      "source": [
        "!pip install mnist\n",
        "import mnist\n",
        "\n",
        "mnist.temporary_dir = lambda: \"/tmp\""
      ],
      "execution_count": null,
      "outputs": [
        {
          "output_type": "stream",
          "text": [
            "Requirement already satisfied: mnist in /usr/local/lib/python3.7/dist-packages (0.2.2)\n",
            "Requirement already satisfied: numpy in /usr/local/lib/python3.7/dist-packages (from mnist) (1.19.5)\n"
          ],
          "name": "stdout"
        }
      ]
    },
    {
      "cell_type": "markdown",
      "metadata": {
        "id": "KetxsVMosyqv"
      },
      "source": [
        "* MNIST è un dataset di cifre scritte a mano, l'obiettivo è costruire una rete neurale come visto in precedenza ed addestrarla a riconoscere quest cifre.\n",
        "\n"
      ]
    },
    {
      "cell_type": "code",
      "metadata": {
        "id": "gTq27sT6sU5n",
        "colab": {
          "base_uri": "https://localhost:8080/"
        },
        "outputId": "1d436e19-acf1-4559-9d33-2d7215dd4ff5"
      },
      "source": [
        "train_images = mnist.train_images().tolist()\n",
        "shape(train_images)"
      ],
      "execution_count": null,
      "outputs": [
        {
          "output_type": "execute_result",
          "data": {
            "text/plain": [
              "[60000, 28, 28]"
            ]
          },
          "metadata": {
            "tags": []
          },
          "execution_count": 103
        }
      ]
    },
    {
      "cell_type": "code",
      "metadata": {
        "id": "efkNpFDetULU",
        "colab": {
          "base_uri": "https://localhost:8080/"
        },
        "outputId": "8b9d6e13-9f13-4647-85f8-47266a3e064a"
      },
      "source": [
        "train_labels = mnist.train_labels().tolist()\n",
        "shape(train_labels)"
      ],
      "execution_count": null,
      "outputs": [
        {
          "output_type": "execute_result",
          "data": {
            "text/plain": [
              "[60000]"
            ]
          },
          "metadata": {
            "tags": []
          },
          "execution_count": 104
        }
      ]
    },
    {
      "cell_type": "markdown",
      "metadata": {
        "id": "Iq-vZks2yHKn"
      },
      "source": [
        "* Il set di training scaricato è di default un array NumPy, visto che in questo caso l'approccio è \"from scratch\", viene convertito a lista con `tolist()`."
      ]
    },
    {
      "cell_type": "markdown",
      "metadata": {
        "id": "0OL7XxzKx_0S"
      },
      "source": [
        "\n",
        "\n",
        "*   Visualizzazione di 25 delle cifre\n"
      ]
    },
    {
      "cell_type": "code",
      "metadata": {
        "id": "jopiWyHttD7m",
        "colab": {
          "base_uri": "https://localhost:8080/",
          "height": 252
        },
        "outputId": "1e82b98f-e02a-410c-aa14-c33e210510f4"
      },
      "source": [
        "import matplotlib.pyplot as plt\n",
        "\n",
        "fig, ax = plt.subplots(5, 5)\n",
        "    \n",
        "for i in range(5):\n",
        "    for j in range(5):\n",
        "        # Plot each image in black and white and hide the axes.\n",
        "        ax[i][j].imshow(train_images[5 * i + j], cmap='Greys')\n",
        "        ax[i][j].xaxis.set_visible(False)\n",
        "        ax[i][j].yaxis.set_visible(False)"
      ],
      "execution_count": null,
      "outputs": [
        {
          "output_type": "display_data",
          "data": {
            "image/png": "[encoded data removed]",
            "text/plain": [
              "<Figure size 432x288 with 25 Axes>"
            ]
          },
          "metadata": {
            "tags": [],
            "needs_background": "light"
          }
        }
      ]
    },
    {
      "cell_type": "markdown",
      "metadata": {
        "id": "1xZJH9dIyDw8"
      },
      "source": [
        "* Download del validation set"
      ]
    },
    {
      "cell_type": "code",
      "metadata": {
        "id": "7Q6YwP4gydcX"
      },
      "source": [
        "test_images = mnist.test_images().tolist()\n",
        "test_labels = mnist.test_labels().tolist()"
      ],
      "execution_count": null,
      "outputs": []
    },
    {
      "cell_type": "markdown",
      "metadata": {
        "id": "NfW_ruI8y6Of"
      },
      "source": [
        "* Il layer lineare come definito prima accetta solo input monodimensionali, quindi bisognerà ridurre la dimensionionalità delle immagini come una operazione di flattening. Ad ogni immagine, viene poi sottratto il valore medio e il tutto viene diviso per 256, per avere dei valori compresi tra 0 e 1."
      ]
    },
    {
      "cell_type": "code",
      "metadata": {
        "id": "JvZNXGGrz91l"
      },
      "source": [
        "# Compute the average pixel value\n",
        "avg = tensor_sum(train_images) / 60000 / 28 / 28\n",
        "    \n",
        "# Rescale, and flatten\n",
        "train_images = [[(pixel - avg) / 256 for row in image for pixel in row]\n",
        "                  for image in train_images]\n",
        "test_images = [[(pixel - avg) / 256 for row in image for pixel in row]\n",
        "                  for image in test_images]"
      ],
      "execution_count": null,
      "outputs": []
    },
    {
      "cell_type": "markdown",
      "metadata": {
        "id": "6lDULhk-0Zpv"
      },
      "source": [
        "* Occorre anche una funzione di one-hot-encoding, per effettuare un encoding sulle etichette, in quanto abbiamo 10 output"
      ]
    },
    {
      "cell_type": "code",
      "metadata": {
        "id": "92O-LCeK0enS"
      },
      "source": [
        "def one_hot_encode(i, num_labels = 10):\n",
        "    return [1.0 if j == i else 0.0 for j in range(num_labels)]\n",
        "    \n",
        "train_labels = [one_hot_encode(label) for label in train_labels]\n",
        "test_labels = [one_hot_encode(label) for label in test_labels]"
      ],
      "execution_count": null,
      "outputs": []
    },
    {
      "cell_type": "markdown",
      "metadata": {
        "id": "ESyxPtvO1SB3"
      },
      "source": [
        "* Adesso le etichette sono in forma vettoriale"
      ]
    },
    {
      "cell_type": "code",
      "metadata": {
        "colab": {
          "base_uri": "https://localhost:8080/"
        },
        "id": "dW5RiMUD1N8N",
        "outputId": "4b00313d-75cb-4a00-8375-68806fc5d3a6"
      },
      "source": [
        "train_labels[:5]"
      ],
      "execution_count": null,
      "outputs": [
        {
          "output_type": "execute_result",
          "data": {
            "text/plain": [
              "[[0.0, 0.0, 0.0, 0.0, 0.0, 1.0, 0.0, 0.0, 0.0, 0.0],\n",
              " [1.0, 0.0, 0.0, 0.0, 0.0, 0.0, 0.0, 0.0, 0.0, 0.0],\n",
              " [0.0, 0.0, 0.0, 0.0, 1.0, 0.0, 0.0, 0.0, 0.0, 0.0],\n",
              " [0.0, 1.0, 0.0, 0.0, 0.0, 0.0, 0.0, 0.0, 0.0, 0.0],\n",
              " [0.0, 0.0, 0.0, 0.0, 0.0, 0.0, 0.0, 0.0, 0.0, 1.0]]"
            ]
          },
          "metadata": {
            "tags": []
          },
          "execution_count": 76
        }
      ]
    },
    {
      "cell_type": "markdown",
      "metadata": {
        "id": "vTnEUkTi1edY"
      },
      "source": [
        "* Viene adesso definita una funzione `loop`. Questo loop verrà utilizzato per l'addestramento, qualora venga passato un optimizer, o per la validazione, in caso non venga passato un optimizer"
      ]
    },
    {
      "cell_type": "code",
      "metadata": {
        "id": "pIkSZlmL1P43"
      },
      "source": [
        "def loop(model: Layer,\n",
        "             images: List[Tensor],\n",
        "             labels: List[Tensor],\n",
        "             loss: Loss,\n",
        "             optimizer: Optimizer = None) -> None:\n",
        "        correct = 0         # Track number of correct predictions.\n",
        "        total_loss = 0.0    # Track total loss.\n",
        "    \n",
        "        with tqdm.trange(len(images)) as t:\n",
        "            for i in t:\n",
        "                predicted = model.forward(images[i])             # Predict.\n",
        "                if argmax(predicted) == argmax(labels[i]):       # Check for\n",
        "                    correct += 1                                 # correctness.\n",
        "                total_loss += loss.loss(predicted, labels[i])    # Compute loss.\n",
        "    \n",
        "                # If we're training, backpropagate gradient and update weights.\n",
        "                if optimizer is not None:\n",
        "                    gradient = loss.gradient(predicted, labels[i])\n",
        "                    model.backward(gradient)\n",
        "                    optimizer.step(model)\n",
        "    \n",
        "                # And update our metrics in the progress bar.\n",
        "                avg_loss = total_loss / (i + 1)\n",
        "                acc = correct / (i + 1)\n",
        "                t.set_description(f\"mnist loss: {avg_loss:.3f} acc: {acc:.3f}\")"
      ],
      "execution_count": null,
      "outputs": []
    },
    {
      "cell_type": "markdown",
      "metadata": {
        "id": "zxfJ1E4x2Y9O"
      },
      "source": [
        "1. **Test di un modello semplice di regressione logistica**"
      ]
    },
    {
      "cell_type": "markdown",
      "metadata": {
        "id": "CF3MGMjW14K5"
      },
      "source": [
        "\n",
        "\n",
        "*   Definito il loop, lo si può utilizzare per addestrare un semplice modello di regressione logistica. Non è altro che un layer lineare con gli output che vengono poi passato alla funzione softmax che fornisce 10 output fra 0 e 1.\n"
      ]
    },
    {
      "cell_type": "code",
      "metadata": {
        "colab": {
          "base_uri": "https://localhost:8080/"
        },
        "id": "TNBU2JF32VZJ",
        "outputId": "c0b1edc4-c4d6-4b25-cc87-965d6a4755db"
      },
      "source": [
        "# Logistic regression is just a linear layer followed by softmax\n",
        "model = Linear(784, 10)\n",
        "loss = SoftmaxCrossEntropy()\n",
        "    \n",
        "# This optimizer seems to work\n",
        "optimizer = Momentum(learning_rate=0.01, momentum=0.99)\n",
        "    \n",
        "# Train on the training data\n",
        "loop(model, train_images, train_labels, loss, optimizer)\n",
        "    \n",
        "# Test on the test data (no optimizer means just evaluate)\n",
        "loop(model, test_images, test_labels, loss)"
      ],
      "execution_count": null,
      "outputs": [
        {
          "output_type": "stream",
          "text": [
            "mnist loss: 0.357 acc: 0.899: 100%|██████████| 60000/60000 [16:10<00:00, 61.83it/s]\n",
            "mnist loss: 0.361 acc: 0.891: 100%|██████████| 10000/10000 [00:58<00:00, 170.79it/s]\n"
          ],
          "name": "stderr"
        }
      ]
    },
    {
      "cell_type": "markdown",
      "metadata": {
        "id": "TcO5_8OQ7BQI"
      },
      "source": [
        "* Questo modello ha una precisione dell'89% a fronte di 16 minuti impiegati per l'addestramento"
      ]
    },
    {
      "cell_type": "markdown",
      "metadata": {
        "id": "ec2Qxync2j_y"
      },
      "source": [
        "2. **Test di un modello con rete neurale *profonda***"
      ]
    },
    {
      "cell_type": "markdown",
      "metadata": {
        "id": "P3Grmw2K2wH6"
      },
      "source": [
        "* Questa volta il modello utilizzato ha due hidden layer, entrambi con $tanh$ come funzione di attivazione. Si fa anche utuilizzo di dropout con probabilità 0.1 in entrambi i layer."
      ]
    },
    {
      "cell_type": "code",
      "metadata": {
        "id": "8aY_kVgN3Kp4"
      },
      "source": [
        "random.seed(0)\n",
        "\n",
        "dropout1 = Dropout(0.1)\n",
        "dropout2 = Dropout(0.1)\n",
        "    \n",
        "model = Sequential([\n",
        "    Linear(784, 30),  # Hidden layer 1: size 30\n",
        "    dropout1,\n",
        "    Tanh(),\n",
        "    Linear(30, 10),   # Hidden layer 2: size 10\n",
        "    dropout2,\n",
        "    Tanh(),\n",
        "    Linear(10, 10)    # Output layer: size 10\n",
        "    ])\n",
        "    \n",
        "    \n",
        "# Training the deep model for MNIST\n",
        "    \n",
        "optimizer = Momentum(learning_rate=0.01, momentum=0.99)\n",
        "loss = SoftmaxCrossEntropy()\n",
        "    \n",
        "# Enable dropout and train (takes > 20 minutes on my laptop!)\n",
        "dropout1.train = dropout2.train = True\n",
        "loop(model, train_images, train_labels, loss, optimizer)\n",
        "    \n",
        "# Disable dropout and evaluate\n",
        "dropout1.train = dropout2.train = False\n",
        "loop(model, test_images, test_labels, loss)"
      ],
      "execution_count": null,
      "outputs": []
    },
    {
      "cell_type": "markdown",
      "metadata": {
        "id": "zktbQegc5NsS"
      },
      "source": [
        "# Test di un modello con libreria Keras\n",
        "\n",
        "Dopo aver implementato due reti neurali \"from scratch\", provo ad implementarne una con la libreria Keras per risolvere lo stesso problema delle cifre scritte a mano."
      ]
    },
    {
      "cell_type": "markdown",
      "metadata": {
        "id": "7_qEkthW94ER"
      },
      "source": [
        "La rete neurale è composta da due strati *dense* da 30 e 10 neuroni con attivazione *ReLU* e layer di output con attivazione *softmax*, come funzione loss si utilizza *crossentropy*, che è simile a quella implementata precedentemente ed è indicata quando le etichette hanno una rappresentazione *one-hot*, come in questo caso."
      ]
    },
    {
      "cell_type": "code",
      "metadata": {
        "id": "CqMtOhnh5j04"
      },
      "source": [
        "import tensorflow as tf\n",
        "import keras\n",
        "from keras.models import Sequential\n",
        "from keras.layers import Dense\n",
        "\n",
        "model = Sequential([\n",
        "    Dense(30, activation=\"relu\", input_shape=(784,)),\n",
        "    Dense(10, activation=\"relu\"),\n",
        "    Dense(10, activation=\"softmax\")\n",
        "])\n",
        "model.compile(\n",
        "    optimizer=\"adam\",\n",
        "    loss=\"categorical_crossentropy\",\n",
        "    metrics=[\"accuracy\"]\n",
        ")"
      ],
      "execution_count": null,
      "outputs": []
    },
    {
      "cell_type": "code",
      "metadata": {
        "colab": {
          "base_uri": "https://localhost:8080/"
        },
        "id": "PluS0NkL7WkD",
        "outputId": "f6ad1352-f334-4313-cccf-ecdf5f186f93"
      },
      "source": [
        "fit_history = model.fit(train_images, train_labels, epochs=10)\n"
      ],
      "execution_count": null,
      "outputs": [
        {
          "output_type": "stream",
          "text": [
            "Epoch 1/10\n",
            "1875/1875 [==============================] - 4s 2ms/step - loss: 0.8455 - accuracy: 0.7234\n",
            "Epoch 2/10\n",
            "1875/1875 [==============================] - 3s 2ms/step - loss: 0.2136 - accuracy: 0.9377\n",
            "Epoch 3/10\n",
            "1875/1875 [==============================] - 3s 2ms/step - loss: 0.1645 - accuracy: 0.9504\n",
            "Epoch 4/10\n",
            "1875/1875 [==============================] - 3s 2ms/step - loss: 0.1360 - accuracy: 0.9601\n",
            "Epoch 5/10\n",
            "1875/1875 [==============================] - 4s 2ms/step - loss: 0.1188 - accuracy: 0.9647\n",
            "Epoch 6/10\n",
            "1875/1875 [==============================] - 4s 2ms/step - loss: 0.1070 - accuracy: 0.9675\n",
            "Epoch 7/10\n",
            "1875/1875 [==============================] - 4s 2ms/step - loss: 0.0985 - accuracy: 0.9690\n",
            "Epoch 8/10\n",
            "1875/1875 [==============================] - 4s 2ms/step - loss: 0.0916 - accuracy: 0.9709\n",
            "Epoch 9/10\n",
            "1875/1875 [==============================] - 3s 2ms/step - loss: 0.0844 - accuracy: 0.9739\n",
            "Epoch 10/10\n",
            "1875/1875 [==============================] - 4s 2ms/step - loss: 0.0827 - accuracy: 0.9745\n"
          ],
          "name": "stdout"
        }
      ]
    },
    {
      "cell_type": "code",
      "metadata": {
        "colab": {
          "base_uri": "https://localhost:8080/"
        },
        "id": "z_hsboJJ749d",
        "outputId": "cdf65041-25c5-41b2-d1bf-a6e2bb17f8c3"
      },
      "source": [
        "model.evaluate(test_images, test_labels)"
      ],
      "execution_count": null,
      "outputs": [
        {
          "output_type": "stream",
          "text": [
            "313/313 [==============================] - 1s 1ms/step - loss: 0.1121 - accuracy: 0.9672\n"
          ],
          "name": "stdout"
        },
        {
          "output_type": "execute_result",
          "data": {
            "text/plain": [
              "[0.11205915361642838, 0.967199981212616]"
            ]
          },
          "metadata": {
            "tags": []
          },
          "execution_count": 92
        }
      ]
    },
    {
      "cell_type": "markdown",
      "metadata": {
        "id": "ARfIb-4I-4Po"
      },
      "source": [
        "* La rete neurale creata con libreria Keras ha una precisione del 97% e ha richiesto meno di 3 minuti per l'addestramento sullo stesso dataset: un risultato nettamente migliore rispetto alle reti neurali *from scratch* implementate sopra.\n"
      ]
    }
  ]
}